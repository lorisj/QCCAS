{
 "cells": [
  {
   "cell_type": "markdown",
   "id": "9b002b0d",
   "metadata": {},
   "source": [
    "In this document, we explore how the simulator processes measurements by default, unless there is a controlled unitary operatation following the measurement, which is explained in /QCCAS/analysis/measure_split.ipynb\n",
    "\n",
    "Note throughout this document, partial measurements and partial unitary transformations can be abstracted as a measurement or unitary transformation on the entire system. For instance, suppose you have a two qubit system with corresponding density operator $\\rho$, and you want to measure the first qubit with an observable $A$. Note that this is equivalent to measuring the entire system $\\rho$ with observable $A \\otimes I$ where $I$ is the identity operator on a single qubit. Similarly, unitary evolution $U$ acting on qubit 2 is the same as $I \\otimes U$ acting on both qubits.\n",
    "\n",
    "\n",
    "## Measurement and variable definitions\n",
    "\n",
    "\n",
    "\n",
    "First let us briefly review measurements in quantum mechanics.\n",
    "A given measurement is characterized by a hermitian linear operator, (observable) $A$.\n",
    "Since $A$ is hermitian, the spectral theorem tells us that $A$ can be othoganally diagonalized.\n",
    "$$\\implies A = \\sum_{i=1}^{k}{\\lambda_i * |\\lambda_i><\\lambda_i|}$$\n",
    "where $(|\\lambda_i>)_{i=1}^{k}$ is an orthonormal eigenbasis, and $(\\lambda_i)_{i=1}^{k}$ are the corresponding eigenvalues.\n",
    "\n",
    "The simulator considers the set (or list), $L = \\{(\\lambda_i, |\\lambda_i>)\\}_{i=1}^{k}$ as an input of the measurement, paired with the density operator at the time, denoted as $\\rho_{in}$.\n",
    "\n",
    "Note that the eigenvalues $\\lambda_i$ are not unique, but the eigenvectors are.\n",
    "Thus we need to find projectors for each eigensubspace. This is easy to do given L, as we already have an orthonormal basis:\n",
    "\n",
    "$$ M_{\\lambda_i} = \\sum_{\\forall_j \\text{ where } \\lambda_i = \\lambda_j}{|\\lambda_j><\\lambda_j|}$$\n",
    "\n",
    "$$ \\implies A=\\sum_{i=1}^{k}{\\lambda_i * M_{\\lambda_i}}$$\n",
    "\n",
    "So note that when a measurement occurs, nature picks one of these measurement results $\\lambda_j$. The probability of getting this result is $Tr[M_{\\lambda_i} \\rho_{in}]$. The classical output of the measurement is then $\\lambda_j$. The quantum output of the measurement is $\\frac{1}{probability} * (M_{\\lambda_i}\\rho_{in}M_{\\lambda_i}^\\dagger)=\\frac{1}{Tr[M_{\\lambda_i} \\rho_{in}]}*(M_{\\lambda_i}\\rho_{in}M_{\\lambda_i}^\\dagger)$\n",
    "\n",
    "\n",
    "## No split\n",
    "\n",
    "Consider the following scenario: we have a measurement, followed by a sequence of unitary transformations and other measurements.\n",
    "\n",
    "Original Measurement: Observable $A=\\sum_{i=1}^{k}{\\lambda_i * M_{\\lambda_i}}$\n",
    "\n",
    "Unitary transformations: $U=\\prod_{i=1}^{m}{U_i}$\n",
    "\n",
    "Subsequent measurement: Observable $B, B_2, ... B_p$ where $B_j=\\sum_{i=1}^{k}{\\gamma_{ji} * M_{\\gamma_{ji}}}$\n",
    "\n",
    "Suppose we start with a state $\\rho_{in}$. After the original measurement, with probability $prob(\\lambda_i)= Tr[M_{\\lambda_i} \\rho_{in}]$ nature picks some $\\lambda_i$, and the state collapses to $\\rho_{in} \\rightarrow \\frac{1}{prob(\\lambda_i)} * M_{\\lambda_i} \\rho_{in} M_{\\lambda_i} $. \n",
    "\n",
    "After comes an assortment of unitary transformations, $U_1, U_2, ... U_m$ which have overall effect of $U=\\prod_{i=1}^{m}{U_i}$. So after these, $\\rho_{in} \\rightarrow U * (\\frac{1}{prob(\\lambda_i)} * M_{\\lambda_i} \\rho_{in} M_{\\lambda_i}) * U^\\dagger$\n",
    "\n",
    "\n",
    "\n",
    "So now if we take the expected value of the state relative to the first measurement:\n",
    "\n",
    "$$E_{\\lambda_i}[U * (\\frac{1}{prob(\\lambda_i)} * M_{\\lambda_i} \\rho_{in} M_{\\lambda_i}) * U^\\dagger]$$ \n",
    "$$= \\sum_{\\lambda_i}{prob(\\lambda_i) * [U * (\\frac{1}{prob(\\lambda_i)} * M_{\\lambda_i} \\rho_{in} M_{\\lambda_i}) * U^\\dagger]}$$\n",
    "$$= U * (\\sum_{\\lambda_i}{ M_{\\lambda_i} \\rho_{in} M_{\\lambda_i}}) * U^\\dagger $$\n",
    "\n",
    "\n",
    "\n",
    "This means that if we only care about the expected quantum output of a circuit, at a measurement, we can simply \n",
    "\n"
   ]
  },
  {
   "cell_type": "code",
   "execution_count": null,
   "id": "c7e9ab0d",
   "metadata": {},
   "outputs": [],
   "source": []
  }
 ],
 "metadata": {
  "kernelspec": {
   "display_name": "Python 3",
   "language": "python",
   "name": "python3"
  },
  "language_info": {
   "codemirror_mode": {
    "name": "ipython",
    "version": 3
   },
   "file_extension": ".py",
   "mimetype": "text/x-python",
   "name": "python",
   "nbconvert_exporter": "python",
   "pygments_lexer": "ipython3",
   "version": "3.8.8"
  }
 },
 "nbformat": 4,
 "nbformat_minor": 5
}
